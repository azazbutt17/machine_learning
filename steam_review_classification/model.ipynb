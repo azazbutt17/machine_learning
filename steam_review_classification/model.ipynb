{
 "cells": [
  {
   "cell_type": "code",
   "execution_count": 2,
   "metadata": {},
   "outputs": [],
   "source": [
    "# Importing the necessary libraries\n",
    "import pandas as pd\n",
    "import numpy as np\n",
    "import matplotlib.pyplot as plt\n",
    "import seaborn as sns\n",
    "from sklearn.model_selection import train_test_split\n",
    "from sklearn.preprocessing import StandardScaler\n",
    "from sklearn.linear_model import LogisticRegression\n",
    "from sklearn.metrics import accuracy_score, confusion_matrix, classification_report\n",
    "from sklearn.ensemble import RandomForestClassifier\n",
    "from sklearn.svm import SVC\n",
    "from sklearn.naive_bayes import GaussianNB\n",
    "from sklearn.neighbors import KNeighborsClassifier\n",
    "from sklearn.tree import DecisionTreeClassifier\n",
    "import re\n",
    "import nltk\n",
    "from nltk.corpus import stopwords\n",
    "from nltk.tokenize import word_tokenize\n",
    "from nltk.stem import WordNetLemmatizer\n",
    "from sklearn.feature_extraction.text import CountVectorizer, TfidfVectorizer"
   ]
  },
  {
   "cell_type": "code",
   "execution_count": 3,
   "metadata": {},
   "outputs": [
    {
     "name": "stderr",
     "output_type": "stream",
     "text": [
      "[nltk_data] Downloading package punkt to\n",
      "[nltk_data]     C:\\Users\\azazb\\AppData\\Roaming\\nltk_data...\n",
      "[nltk_data]   Package punkt is already up-to-date!\n",
      "[nltk_data] Downloading package stopwords to\n",
      "[nltk_data]     C:\\Users\\azazb\\AppData\\Roaming\\nltk_data...\n",
      "[nltk_data]   Package stopwords is already up-to-date!\n",
      "[nltk_data] Downloading package wordnet to\n",
      "[nltk_data]     C:\\Users\\azazb\\AppData\\Roaming\\nltk_data...\n",
      "[nltk_data]   Package wordnet is already up-to-date!\n",
      "[nltk_data] Downloading package omw-1.4 to\n",
      "[nltk_data]     C:\\Users\\azazb\\AppData\\Roaming\\nltk_data...\n",
      "[nltk_data]   Package omw-1.4 is already up-to-date!\n"
     ]
    },
    {
     "data": {
      "text/plain": [
       "True"
      ]
     },
     "execution_count": 3,
     "metadata": {},
     "output_type": "execute_result"
    }
   ],
   "source": [
    "nltk.download('punkt')\n",
    "nltk.download('stopwords')\n",
    "nltk.download('wordnet')\n",
    "nltk.download('omw-1.4')"
   ]
  },
  {
   "cell_type": "code",
   "execution_count": 4,
   "metadata": {},
   "outputs": [
    {
     "data": {
      "text/html": [
       "<div>\n",
       "<style scoped>\n",
       "    .dataframe tbody tr th:only-of-type {\n",
       "        vertical-align: middle;\n",
       "    }\n",
       "\n",
       "    .dataframe tbody tr th {\n",
       "        vertical-align: top;\n",
       "    }\n",
       "\n",
       "    .dataframe thead th {\n",
       "        text-align: right;\n",
       "    }\n",
       "</style>\n",
       "<table border=\"1\" class=\"dataframe\">\n",
       "  <thead>\n",
       "    <tr style=\"text-align: right;\">\n",
       "      <th></th>\n",
       "      <th>id</th>\n",
       "      <th>app_id</th>\n",
       "      <th>content</th>\n",
       "      <th>author_id</th>\n",
       "      <th>is_positive</th>\n",
       "    </tr>\n",
       "  </thead>\n",
       "  <tbody>\n",
       "    <tr>\n",
       "      <th>0</th>\n",
       "      <td>181331361</td>\n",
       "      <td>100.0</td>\n",
       "      <td>At least its a counter strike -1/100</td>\n",
       "      <td>7.656120e+16</td>\n",
       "      <td>Negative</td>\n",
       "    </tr>\n",
       "    <tr>\n",
       "      <th>1</th>\n",
       "      <td>180872601</td>\n",
       "      <td>100.0</td>\n",
       "      <td>Uh... So far my playthrough has not been great...</td>\n",
       "      <td>7.656120e+16</td>\n",
       "      <td>Negative</td>\n",
       "    </tr>\n",
       "    <tr>\n",
       "      <th>2</th>\n",
       "      <td>177836246</td>\n",
       "      <td>100.0</td>\n",
       "      <td>Better mechanics than cs2</td>\n",
       "      <td>7.656120e+16</td>\n",
       "      <td>Negative</td>\n",
       "    </tr>\n",
       "    <tr>\n",
       "      <th>3</th>\n",
       "      <td>177287444</td>\n",
       "      <td>100.0</td>\n",
       "      <td>buggy mess and NOT fun to play at all</td>\n",
       "      <td>7.656120e+16</td>\n",
       "      <td>Negative</td>\n",
       "    </tr>\n",
       "    <tr>\n",
       "      <th>4</th>\n",
       "      <td>176678990</td>\n",
       "      <td>100.0</td>\n",
       "      <td>Whoever came up with this, is gonna fucking ge...</td>\n",
       "      <td>7.656120e+16</td>\n",
       "      <td>Negative</td>\n",
       "    </tr>\n",
       "    <tr>\n",
       "      <th>5</th>\n",
       "      <td>176118004</td>\n",
       "      <td>100.0</td>\n",
       "      <td>Every enemy and their grandmother have aimbot ...</td>\n",
       "      <td>7.656120e+16</td>\n",
       "      <td>Negative</td>\n",
       "    </tr>\n",
       "    <tr>\n",
       "      <th>6</th>\n",
       "      <td>172896379</td>\n",
       "      <td>100.0</td>\n",
       "      <td>l</td>\n",
       "      <td>7.656120e+16</td>\n",
       "      <td>Negative</td>\n",
       "    </tr>\n",
       "  </tbody>\n",
       "</table>\n",
       "</div>"
      ],
      "text/plain": [
       "          id  app_id                                            content  \\\n",
       "0  181331361   100.0               At least its a counter strike -1/100   \n",
       "1  180872601   100.0  Uh... So far my playthrough has not been great...   \n",
       "2  177836246   100.0                          Better mechanics than cs2   \n",
       "3  177287444   100.0              buggy mess and NOT fun to play at all   \n",
       "4  176678990   100.0  Whoever came up with this, is gonna fucking ge...   \n",
       "5  176118004   100.0  Every enemy and their grandmother have aimbot ...   \n",
       "6  172896379   100.0                                                  l   \n",
       "\n",
       "      author_id is_positive  \n",
       "0  7.656120e+16    Negative  \n",
       "1  7.656120e+16    Negative  \n",
       "2  7.656120e+16    Negative  \n",
       "3  7.656120e+16    Negative  \n",
       "4  7.656120e+16    Negative  \n",
       "5  7.656120e+16    Negative  \n",
       "6  7.656120e+16    Negative  "
      ]
     },
     "execution_count": 4,
     "metadata": {},
     "output_type": "execute_result"
    }
   ],
   "source": [
    "data = pd.read_csv(\"output.csv\", encoding=\"ISO-8859-1\")\n",
    "data.head(7)"
   ]
  },
  {
   "cell_type": "code",
   "execution_count": 5,
   "metadata": {},
   "outputs": [
    {
     "name": "stdout",
     "output_type": "stream",
     "text": [
      "<class 'pandas.core.frame.DataFrame'>\n",
      "RangeIndex: 201202 entries, 0 to 201201\n",
      "Data columns (total 5 columns):\n",
      " #   Column       Non-Null Count   Dtype  \n",
      "---  ------       --------------   -----  \n",
      " 0   id           201202 non-null  object \n",
      " 1   app_id       201153 non-null  float64\n",
      " 2   content      200725 non-null  object \n",
      " 3   author_id    201149 non-null  float64\n",
      " 4   is_positive  201149 non-null  object \n",
      "dtypes: float64(2), object(3)\n",
      "memory usage: 7.7+ MB\n"
     ]
    }
   ],
   "source": [
    "data.info()"
   ]
  },
  {
   "cell_type": "code",
   "execution_count": 6,
   "metadata": {},
   "outputs": [
    {
     "data": {
      "text/plain": [
       "(201202, 5)"
      ]
     },
     "execution_count": 6,
     "metadata": {},
     "output_type": "execute_result"
    }
   ],
   "source": [
    "data.shape"
   ]
  },
  {
   "cell_type": "code",
   "execution_count": 5,
   "metadata": {},
   "outputs": [
    {
     "name": "stdout",
     "output_type": "stream",
     "text": [
      "Original shape: (201202, 5)\n",
      "Sampled shape: (9999, 5)\n",
      "\n",
      "Original class distribution:\n",
      "is_positive\n",
      "Positive    0.510368\n",
      "Negative    0.489632\n",
      "Name: proportion, dtype: float64\n",
      "\n",
      "Sampled class distribution:\n",
      "is_positive\n",
      "Positive    0.510351\n",
      "Negative    0.489649\n",
      "Name: proportion, dtype: float64\n"
     ]
    }
   ],
   "source": [
    "# calculate the current class distribution\n",
    "original_distribution = data['is_positive'].value_counts(normalize=True)\n",
    "\n",
    "# select 10000 samples while maintaining the same class distribution\n",
    "sampled_data = data.groupby('is_positive', group_keys=False).apply(\n",
    "    lambda x: x.sample(n=int(10000 * original_distribution[x.name]), random_state=42)\n",
    ")\n",
    "\n",
    "# reset the index of the sampled dataset\n",
    "sampled_data = sampled_data.reset_index(drop=True)\n",
    "\n",
    "# verify the new shape\n",
    "print(\"Original shape:\", data.shape)\n",
    "print(\"Sampled shape:\", sampled_data.shape)\n",
    "\n",
    "# verify the class distribution is maintained\n",
    "print(\"\\nOriginal class distribution:\")\n",
    "print(data['is_positive'].value_counts(normalize=True))\n",
    "print(\"\\nSampled class distribution:\")\n",
    "print(sampled_data['is_positive'].value_counts(normalize=True))"
   ]
  },
  {
   "cell_type": "code",
   "execution_count": 6,
   "metadata": {},
   "outputs": [
    {
     "data": {
      "image/png": "[encoded data removed]",
      "text/plain": [
       "<Figure size 800x500 with 1 Axes>"
      ]
     },
     "metadata": {},
     "output_type": "display_data"
    }
   ],
   "source": [
    "# Bar Plot\n",
    "plt.figure(figsize=(8, 5))\n",
    "sampled_data['is_positive'].value_counts().plot(kind='bar')\n",
    "plt.title('Distribution of Review Labels')\n",
    "plt.xlabel('Label')\n",
    "plt.ylabel('Count')\n",
    "plt.xticks(rotation=0)\n",
    "plt.show()"
   ]
  },
  {
   "cell_type": "code",
   "execution_count": 7,
   "metadata": {},
   "outputs": [
    {
     "data": {
      "image/png": "[encoded data removed]",
      "text/plain": [
       "<Figure size 700x400 with 1 Axes>"
      ]
     },
     "metadata": {},
     "output_type": "display_data"
    }
   ],
   "source": [
    "# pie Chart\n",
    "plt.figure(figsize=(7, 4))\n",
    "sampled_data['is_positive'].value_counts().plot(kind='pie', autopct='%1.1f%%')\n",
    "plt.title('Distribution of Review Labels')\n",
    "plt.ylabel('')\n",
    "plt.tight_layout()\n",
    "plt.show()"
   ]
  },
  {
   "cell_type": "code",
   "execution_count": 8,
   "metadata": {},
   "outputs": [],
   "source": [
    "def preprocess_text(text):\n",
    "    # convert to lowercase\n",
    "    text = str(text).lower()\n",
    "    \n",
    "    # remove URLs\n",
    "    text = re.sub(r'http\\S+|www\\S+|https\\S+', '', text, flags=re.MULTILINE)\n",
    "    \n",
    "    # remove HTML tags\n",
    "    text = re.sub(r'<.*?>', '', text)\n",
    "    \n",
    "    # remove special characters and numbers\n",
    "    text = re.sub(r'[^a-zA-Z\\s]', '', text)\n",
    "    \n",
    "    # remove extra whitespace\n",
    "    text = re.sub(r'\\s+', ' ', text).strip()\n",
    "    \n",
    "    # tokenization\n",
    "    tokens = word_tokenize(text)\n",
    "    \n",
    "    # remove stopwords\n",
    "    stop_words = set(stopwords.words('english'))\n",
    "    tokens = [token for token in tokens if token not in stop_words]\n",
    "    \n",
    "    # lemmatization\n",
    "    lemmatizer = WordNetLemmatizer()\n",
    "    tokens = [lemmatizer.lemmatize(token) for token in tokens]\n",
    "    \n",
    "    # join tokens back into text\n",
    "    return ' '.join(tokens)\n",
    "\n",
    "# applying preprocessing to the 'content' column\n",
    "sampled_data['cleaned_content'] = sampled_data['content'].apply(preprocess_text)"
   ]
  },
  {
   "cell_type": "code",
   "execution_count": 9,
   "metadata": {},
   "outputs": [
    {
     "name": "stdout",
     "output_type": "stream",
     "text": [
      "Original vs Cleaned Text Examples:\n",
      "\n",
      "Original: A reminder of how crappy games were 10 years ago\n",
      "Cleaned: reminder crappy game year ago\n",
      "\n",
      "Original: I really like this game its cool\n",
      "Cleaned: really like game cool\n",
      "\n",
      "Original: blue shift? more like bull shit\n",
      "\n",
      "hl1 is great, hl:of is great, hl:bs is meh\n",
      "\n",
      "it's not bad but it also ain't that good\n",
      "you could probably skip this one and not miss out on anything special\n",
      "Cleaned: blue shift like bull shit hl great hlof great hlbs meh bad also aint good could probably skip one miss anything special\n"
     ]
    }
   ],
   "source": [
    "# displaying a few examples of original and cleaned text\n",
    "print(\"Original vs Cleaned Text Examples:\")\n",
    "for i in range(3):\n",
    "    print(\"\\nOriginal:\", sampled_data['content'].iloc[i])\n",
    "    print(\"Cleaned:\", sampled_data['cleaned_content'].iloc[i])"
   ]
  },
  {
   "cell_type": "code",
   "execution_count": 10,
   "metadata": {},
   "outputs": [
    {
     "data": {
      "text/html": [
       "<div>\n",
       "<style scoped>\n",
       "    .dataframe tbody tr th:only-of-type {\n",
       "        vertical-align: middle;\n",
       "    }\n",
       "\n",
       "    .dataframe tbody tr th {\n",
       "        vertical-align: top;\n",
       "    }\n",
       "\n",
       "    .dataframe thead th {\n",
       "        text-align: right;\n",
       "    }\n",
       "</style>\n",
       "<table border=\"1\" class=\"dataframe\">\n",
       "  <thead>\n",
       "    <tr style=\"text-align: right;\">\n",
       "      <th></th>\n",
       "      <th>id</th>\n",
       "      <th>app_id</th>\n",
       "      <th>content</th>\n",
       "      <th>author_id</th>\n",
       "      <th>is_positive</th>\n",
       "      <th>cleaned_content</th>\n",
       "    </tr>\n",
       "  </thead>\n",
       "  <tbody>\n",
       "    <tr>\n",
       "      <th>0</th>\n",
       "      <td>9925216</td>\n",
       "      <td>220.0</td>\n",
       "      <td>A reminder of how crappy games were 10 years ago</td>\n",
       "      <td>7.656120e+16</td>\n",
       "      <td>Negative</td>\n",
       "      <td>reminder crappy game year ago</td>\n",
       "    </tr>\n",
       "    <tr>\n",
       "      <th>1</th>\n",
       "      <td>120402387</td>\n",
       "      <td>220.0</td>\n",
       "      <td>I really like this game its cool</td>\n",
       "      <td>7.656120e+16</td>\n",
       "      <td>Negative</td>\n",
       "      <td>really like game cool</td>\n",
       "    </tr>\n",
       "    <tr>\n",
       "      <th>2</th>\n",
       "      <td>14801220</td>\n",
       "      <td>130.0</td>\n",
       "      <td>blue shift? more like bull shit\\n\\nhl1 is grea...</td>\n",
       "      <td>7.656120e+16</td>\n",
       "      <td>Negative</td>\n",
       "      <td>blue shift like bull shit hl great hlof great ...</td>\n",
       "    </tr>\n",
       "    <tr>\n",
       "      <th>3</th>\n",
       "      <td>179268339</td>\n",
       "      <td>570.0</td>\n",
       "      <td>garbage</td>\n",
       "      <td>7.656120e+16</td>\n",
       "      <td>Negative</td>\n",
       "      <td>garbage</td>\n",
       "    </tr>\n",
       "    <tr>\n",
       "      <th>4</th>\n",
       "      <td>152310822</td>\n",
       "      <td>570.0</td>\n",
       "      <td>trash game !!!</td>\n",
       "      <td>7.656120e+16</td>\n",
       "      <td>Negative</td>\n",
       "      <td>trash game</td>\n",
       "    </tr>\n",
       "    <tr>\n",
       "      <th>5</th>\n",
       "      <td>9402482</td>\n",
       "      <td>280.0</td>\n",
       "      <td>I like Half Life. It is one of my all time fav...</td>\n",
       "      <td>7.656120e+16</td>\n",
       "      <td>Negative</td>\n",
       "      <td>like half life one time favourite fps game bel...</td>\n",
       "    </tr>\n",
       "    <tr>\n",
       "      <th>6</th>\n",
       "      <td>129581512</td>\n",
       "      <td>570.0</td>\n",
       "      <td>sdgsg</td>\n",
       "      <td>7.656120e+16</td>\n",
       "      <td>Negative</td>\n",
       "      <td>sdgsg</td>\n",
       "    </tr>\n",
       "  </tbody>\n",
       "</table>\n",
       "</div>"
      ],
      "text/plain": [
       "          id  app_id                                            content  \\\n",
       "0    9925216   220.0   A reminder of how crappy games were 10 years ago   \n",
       "1  120402387   220.0                   I really like this game its cool   \n",
       "2   14801220   130.0  blue shift? more like bull shit\\n\\nhl1 is grea...   \n",
       "3  179268339   570.0                                            garbage   \n",
       "4  152310822   570.0                                     trash game !!!   \n",
       "5    9402482   280.0  I like Half Life. It is one of my all time fav...   \n",
       "6  129581512   570.0                                              sdgsg   \n",
       "\n",
       "      author_id is_positive                                    cleaned_content  \n",
       "0  7.656120e+16    Negative                      reminder crappy game year ago  \n",
       "1  7.656120e+16    Negative                              really like game cool  \n",
       "2  7.656120e+16    Negative  blue shift like bull shit hl great hlof great ...  \n",
       "3  7.656120e+16    Negative                                            garbage  \n",
       "4  7.656120e+16    Negative                                         trash game  \n",
       "5  7.656120e+16    Negative  like half life one time favourite fps game bel...  \n",
       "6  7.656120e+16    Negative                                              sdgsg  "
      ]
     },
     "execution_count": 10,
     "metadata": {},
     "output_type": "execute_result"
    }
   ],
   "source": [
    "sampled_data.head(7)"
   ]
  },
  {
   "cell_type": "code",
   "execution_count": 11,
   "metadata": {},
   "outputs": [],
   "source": [
    "tfidf_vectorizer = TfidfVectorizer(max_features=5000)\n",
    "X_tfidf = tfidf_vectorizer.fit_transform(sampled_data['cleaned_content'])"
   ]
  },
  {
   "cell_type": "code",
   "execution_count": 12,
   "metadata": {},
   "outputs": [
    {
     "data": {
      "text/plain": [
       "(9999, 5000)"
      ]
     },
     "execution_count": 12,
     "metadata": {},
     "output_type": "execute_result"
    }
   ],
   "source": [
    "X_tfidf.shape\n"
   ]
  },
  {
   "cell_type": "code",
   "execution_count": 13,
   "metadata": {},
   "outputs": [],
   "source": [
    "y = (sampled_data['is_positive'] == 'Positive').astype(int)"
   ]
  },
  {
   "cell_type": "code",
   "execution_count": 14,
   "metadata": {},
   "outputs": [],
   "source": [
    "X_tfidf_train, X_tfidf_test, y_train_tfidf, y_test_tfidf = train_test_split(X_tfidf, y, test_size=0.2, random_state=42)"
   ]
  },
  {
   "cell_type": "code",
   "execution_count": 17,
   "metadata": {},
   "outputs": [],
   "source": [
    "def evaluate_model(model, X_train, X_test, y_train, y_test, model_name, vectorizer_name):\n",
    "    model.fit(X_train, y_train)\n",
    "    y_pred = model.predict(X_test)\n",
    "    \n",
    "    print(f\"\\n{model_name} with {vectorizer_name}\")\n",
    "    print(f\"Accuracy: {accuracy_score(y_test, y_pred) * 100:.2f}%\")\n",
    "    print(\"\\nClassification Report:\")\n",
    "    print(classification_report(y_test, y_pred))\n",
    "    \n",
    "    # plot confusion matrix\n",
    "    plt.figure(figsize=(8, 6))\n",
    "    cm = confusion_matrix(y_test, y_pred)\n",
    "    sns.heatmap(cm, annot=True, fmt='d', cmap='Blues')\n",
    "    plt.title(f'Confusion Matrix - {model_name} ({vectorizer_name})')\n",
    "    plt.ylabel('True Label')\n",
    "    plt.xlabel('Predicted Label')\n",
    "    plt.show()"
   ]
  },
  {
   "cell_type": "code",
   "execution_count": 18,
   "metadata": {},
   "outputs": [
    {
     "name": "stdout",
     "output_type": "stream",
     "text": [
      "\n",
      "Random Forest with TF-IDF\n",
      "Accuracy: 78.85%\n",
      "\n",
      "Classification Report:\n",
      "              precision    recall  f1-score   support\n",
      "\n",
      "           0       0.82      0.74      0.78       992\n",
      "           1       0.76      0.84      0.80      1008\n",
      "\n",
      "    accuracy                           0.79      2000\n",
      "   macro avg       0.79      0.79      0.79      2000\n",
      "weighted avg       0.79      0.79      0.79      2000\n",
      "\n"
     ]
    },
    {
     "data": {
      "image/png": "[encoded data removed]",
      "text/plain": [
       "<Figure size 800x600 with 2 Axes>"
      ]
     },
     "metadata": {},
     "output_type": "display_data"
    },
    {
     "name": "stdout",
     "output_type": "stream",
     "text": [
      "CPU times: total: 41.2 s\n",
      "Wall time: 45.4 s\n"
     ]
    }
   ],
   "source": [
    "%%time\n",
    "rf = RandomForestClassifier(n_estimators=100, \n",
    "                            random_state=42)\n",
    "# applying the model   \n",
    "evaluate_model(rf, X_tfidf_train, X_tfidf_test, \n",
    "               y_train_tfidf, y_test_tfidf, \n",
    "               \"Random Forest\", \"TF-IDF\")"
   ]
  },
  {
   "cell_type": "code",
   "execution_count": 21,
   "metadata": {},
   "outputs": [],
   "source": [
    "def print_sample_predictions(model, X_test, y_test, original_texts, n_samples):\n",
    "    # get predictions\n",
    "    y_pred = model.predict(X_test)\n",
    "    \n",
    "    # get original texts (assuming they're in the same order as X_test)\n",
    "    sample_indices = np.random.choice(len(y_test), n_samples, replace=False)\n",
    "    \n",
    "    print(\"\\nSample Predictions vs Actual Labels:\")\n",
    "    print(\"-\" * 80)\n",
    "    \n",
    "    for idx in sample_indices:\n",
    "        print(f\"Text: {original_texts[idx]}\")\n",
    "        print(f\"Predicted: {'Positive' if y_pred[idx] == 1 else 'Negative'}\")\n",
    "        print(f\"Actual: {'Positive' if y_test.iloc[idx] == 1 else 'Negative'}\")\n",
    "        print(\"-\" * 80)"
   ]
  },
  {
   "cell_type": "code",
   "execution_count": 25,
   "metadata": {},
   "outputs": [
    {
     "name": "stdout",
     "output_type": "stream",
     "text": [
      "\n",
      "Sample Predictions vs Actual Labels:\n",
      "--------------------------------------------------------------------------------\n",
      "Text: no one should play a moba\n",
      "Predicted: Positive\n",
      "Actual: Positive\n",
      "--------------------------------------------------------------------------------\n",
      "Text: Meh\n",
      "Predicted: Positive\n",
      "Actual: Positive\n",
      "--------------------------------------------------------------------------------\n",
      "Text: The maker of this game should kill his self:)\n",
      "Predicted: Negative\n",
      "Actual: Positive\n",
      "--------------------------------------------------------------------------------\n",
      "Text: game kontol forced closed terus dari dulu sampek sekarang tetep ada ajaa masalahnya\n",
      "Predicted: Positive\n",
      "Actual: Negative\n",
      "--------------------------------------------------------------------------------\n",
      "Text: Downvoting for Valve's continued neglect in failing to stop bots and cheating.\n",
      "Predicted: Positive\n",
      "Actual: Positive\n",
      "--------------------------------------------------------------------------------\n"
     ]
    }
   ],
   "source": [
    "print_sample_predictions(rf, X_tfidf_test, y_test_tfidf, sampled_data['content'], n_samples=5)"
   ]
  },
  {
   "cell_type": "code",
   "execution_count": null,
   "metadata": {},
   "outputs": [],
   "source": []
  }
 ],
 "metadata": {
  "kernelspec": {
   "display_name": "Python 3 (ipykernel)",
   "language": "python",
   "name": "python3"
  },
  "language_info": {
   "codemirror_mode": {
    "name": "ipython",
    "version": 3
   },
   "file_extension": ".py",
   "mimetype": "text/x-python",
   "name": "python",
   "nbconvert_exporter": "python",
   "pygments_lexer": "ipython3",
   "version": "3.11.5"
  }
 },
 "nbformat": 4,
 "nbformat_minor": 2
}
